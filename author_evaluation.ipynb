{
 "cells": [
  {
   "cell_type": "code",
   "execution_count": 1,
   "id": "honey-bhutan",
   "metadata": {},
   "outputs": [
    {
     "name": "stderr",
     "output_type": "stream",
     "text": [
      "/usr/local/lib/python3.9/site-packages/gensim/similarities/__init__.py:15: UserWarning: The gensim.similarities.levenshtein submodule is disabled, because the optional Levenshtein package <https://pypi.org/project/python-Levenshtein/> is unavailable. Install Levenhstein (e.g. `pip install python-Levenshtein`) to suppress this warning.\n",
      "  warnings.warn(msg)\n"
     ]
    }
   ],
   "source": [
    "import pandas as pd\n",
    "import numpy as np\n",
    "import pickle\n",
    "from pprint import pprint\n",
    "import matplotlib.pyplot as plt\n",
    "from gensim.corpora import Dictionary, MmCorpus\n",
    "from gensim.models import AuthorTopicModel\n",
    "from gensim.test.utils import datapath"
   ]
  },
  {
   "cell_type": "code",
   "execution_count": 2,
   "id": "assured-andorra",
   "metadata": {},
   "outputs": [],
   "source": [
    "# load data\n",
    "dictionary = Dictionary.load(\"data/dictionary.pkl\")\n",
    "temp_file = open(\"data/train.pkl\", \"rb\")\n",
    "train = pickle.load(temp_file)\n",
    "train.reset_index(drop=True, inplace=True)\n",
    "temp_file.close()\n",
    "train_reviews = train[\"tokens\"].tolist()\n",
    "temp_file = open(\"data/test.pkl\", \"rb\")\n",
    "test = pickle.load(temp_file)\n",
    "temp_file.close()\n",
    "train_corpus = MmCorpus(\"data/train_corpus.mm\")\n",
    "test_corpus = MmCorpus(\"data/test_corpus.mm\")"
   ]
  },
  {
   "cell_type": "markdown",
   "id": "anticipated-triple",
   "metadata": {},
   "source": [
    "### Author Topic"
   ]
  },
  {
   "cell_type": "code",
   "execution_count": 3,
   "id": "available-buyer",
   "metadata": {},
   "outputs": [],
   "source": [
    "# load best model (10 topics)\n",
    "lda = AuthorTopicModel.load(datapath(\"author_10\"))"
   ]
  },
  {
   "cell_type": "code",
   "execution_count": 4,
   "id": "eleven-estonia",
   "metadata": {},
   "outputs": [
    {
     "data": {
      "text/plain": [
       "array([0.0285606 , 0.19291188, 0.0038508 , 2.16548268, 0.00384733,\n",
       "       0.00384735, 0.00384968, 0.17555756, 0.0038491 , 0.00495719])"
      ]
     },
     "execution_count": 4,
     "metadata": {},
     "output_type": "execute_result"
    }
   ],
   "source": [
    "# learned topic proportion prior\n",
    "lda.alpha"
   ]
  },
  {
   "cell_type": "code",
   "execution_count": 5,
   "id": "decreased-exclusion",
   "metadata": {},
   "outputs": [
    {
     "data": {
      "text/plain": [
       "[(3, 0.8581101453449446), (7, 0.13990704444132115)]"
      ]
     },
     "execution_count": 5,
     "metadata": {},
     "output_type": "execute_result"
    }
   ],
   "source": [
    "lda.get_author_topics(\"fantasy\",minimum_probability=.01)"
   ]
  },
  {
   "cell_type": "code",
   "execution_count": 6,
   "id": "inclusive-mileage",
   "metadata": {},
   "outputs": [
    {
     "data": {
      "text/plain": [
       "[(0, 0.04731197800496906), (3, 0.9500823020841711)]"
      ]
     },
     "execution_count": 6,
     "metadata": {},
     "output_type": "execute_result"
    }
   ],
   "source": [
    "lda.get_author_topics(\"history\",minimum_probability=.01)"
   ]
  },
  {
   "cell_type": "code",
   "execution_count": 7,
   "id": "wanted-library",
   "metadata": {},
   "outputs": [
    {
     "data": {
      "text/plain": [
       "[(3, 0.695853376954617), (7, 0.3038303109538491)]"
      ]
     },
     "execution_count": 7,
     "metadata": {},
     "output_type": "execute_result"
    }
   ],
   "source": [
    "lda.get_author_topics(\"mystery\",minimum_probability=.01)"
   ]
  },
  {
   "cell_type": "code",
   "execution_count": 8,
   "id": "collect-glance",
   "metadata": {},
   "outputs": [
    {
     "data": {
      "image/png": "[encoded data removed]",
      "text/plain": [
       "<Figure size 504x360 with 1 Axes>"
      ]
     },
     "metadata": {
      "needs_background": "light"
     },
     "output_type": "display_data"
    }
   ],
   "source": [
    "fig, ax = plt.subplots(figsize=(7,5))\n",
    "width = 0.3\n",
    "fig.suptitle(\"Topic Distribution by Genre\")\n",
    "ax.bar(np.arange(10)-width,[0,0,0,0.858,0,0,0,0.1399,0,0],width,label=\"fantasy\")\n",
    "ax.bar(np.arange(10),[0.0473,0,0,0.95,0,0,0,0,0,0],width,label=\"history\")\n",
    "ax.bar(np.arange(10)+width,[0,0,0,0.696,0,0,0,0.3038,0,0],width,label=\"mystery\")\n",
    "ax.set_xticks(np.arange(10))\n",
    "ax.set_ylabel(\"Topic Proportion\")\n",
    "plt.legend()\n",
    "plt.show()"
   ]
  },
  {
   "cell_type": "code",
   "execution_count": 9,
   "id": "painted-kitty",
   "metadata": {},
   "outputs": [
    {
     "data": {
      "text/plain": [
       "[(0,\n",
       "  '0.079*\"history\" + 0.074*\"war\" + 0.052*\"historical\" + 0.032*\"american\" + 0.029*\"life\" + 0.020*\"period\" + 0.016*\"account\" + 0.016*\"german\" + 0.016*\"state\" + 0.015*\"year\"'),\n",
       " (1,\n",
       "  '0.009*\"dex\" + 0.005*\"lamora\" + 0.005*\"wraith\" + 0.005*\"continuity\" + 0.004*\"sentimental\" + 0.004*\"rune\" + 0.004*\"temeraire\" + 0.004*\"flora\" + 0.004*\"aedion\" + 0.004*\"jaime\"'),\n",
       " (2,\n",
       "  '0.000*\"like\" + 0.000*\"even\" + 0.000*\"character\" + 0.000*\"good\" + 0.000*\"time\" + 0.000*\"people\" + 0.000*\"get\" + 0.000*\"would\" + 0.000*\"also\" + 0.000*\"series\"'),\n",
       " (3,\n",
       "  '0.008*\"character\" + 0.008*\"like\" + 0.007*\"really\" + 0.006*\"time\" + 0.006*\"love\" + 0.006*\"would\" + 0.005*\"much\" + 0.005*\"first\" + 0.004*\"get\" + 0.004*\"life\"'),\n",
       " (4,\n",
       "  '0.000*\"bond\" + 0.000*\"realize\" + 0.000*\"stephanie\" + 0.000*\"character\" + 0.000*\"enjoyed\" + 0.000*\"dyer\" + 0.000*\"mara_dyer\" + 0.000*\"kept\" + 0.000*\"attention\" + 0.000*\"writing\"'),\n",
       " (5,\n",
       "  '0.000*\"lot\" + 0.000*\"people\" + 0.000*\"thinking\" + 0.000*\"truly\" + 0.000*\"appreciated\" + 0.000*\"fast\" + 0.000*\"requires\" + 0.000*\"corner\" + 0.000*\"western\" + 0.000*\"reflection\"'),\n",
       " (6,\n",
       "  '0.000*\"series\" + 0.000*\"like\" + 0.000*\"could\" + 0.000*\"next\" + 0.000*\"character\" + 0.000*\"would\" + 0.000*\"know\" + 0.000*\"make\" + 0.000*\"jack\" + 0.000*\"really\"'),\n",
       " (7,\n",
       "  '0.016*\"character\" + 0.016*\"series\" + 0.012*\"like\" + 0.010*\"mystery\" + 0.008*\"really\" + 0.007*\"good\" + 0.007*\"get\" + 0.006*\"plot\" + 0.006*\"first\" + 0.005*\"novel\"'),\n",
       " (8,\n",
       "  '0.000*\"like\" + 0.000*\"also\" + 0.000*\"time\" + 0.000*\"really\" + 0.000*\"found\" + 0.000*\"character\" + 0.000*\"author\" + 0.000*\"history\" + 0.000*\"would\" + 0.000*\"year\"'),\n",
       " (9,\n",
       "  '0.000*\"soho\" + 0.000*\"enoch\" + 0.000*\"disappoints\" + 0.000*\"never_disappoints\" + 0.000*\"key_player\" + 0.000*\"wimpy\" + 0.000*\"happily_married\" + 0.000*\"marty\" + 0.000*\"plus_side\" + 0.000*\"motivation\"')]"
      ]
     },
     "execution_count": 9,
     "metadata": {},
     "output_type": "execute_result"
    }
   ],
   "source": [
    "lda.print_topics()"
   ]
  },
  {
   "cell_type": "code",
   "execution_count": null,
   "id": "fiscal-cooperative",
   "metadata": {},
   "outputs": [],
   "source": []
  }
 ],
 "metadata": {
  "kernelspec": {
   "display_name": "Python 3",
   "language": "python",
   "name": "python3"
  },
  "language_info": {
   "codemirror_mode": {
    "name": "ipython",
    "version": 3
   },
   "file_extension": ".py",
   "mimetype": "text/x-python",
   "name": "python",
   "nbconvert_exporter": "python",
   "pygments_lexer": "ipython3",
   "version": "3.9.5"
  }
 },
 "nbformat": 4,
 "nbformat_minor": 5
}

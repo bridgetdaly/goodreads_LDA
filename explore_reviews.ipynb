{
 "cells": [
  {
   "cell_type": "code",
   "execution_count": 1,
   "id": "following-passport",
   "metadata": {},
   "outputs": [],
   "source": [
    "import pandas as pd\n",
    "import numpy as np\n",
    "import nltk\n",
    "from sklearn.model_selection import train_test_split"
   ]
  },
  {
   "cell_type": "markdown",
   "id": "alert-serve",
   "metadata": {},
   "source": [
    "## Data Overview"
   ]
  },
  {
   "cell_type": "code",
   "execution_count": 2,
   "id": "floral-malpractice",
   "metadata": {},
   "outputs": [],
   "source": [
    "dat = pd.read_pickle(\"data/reviews.pkl\")"
   ]
  },
  {
   "cell_type": "code",
   "execution_count": 3,
   "id": "civilian-planner",
   "metadata": {},
   "outputs": [
    {
     "data": {
      "text/plain": [
       "620193"
      ]
     },
     "execution_count": 3,
     "metadata": {},
     "output_type": "execute_result"
    }
   ],
   "source": [
    "len(dat)"
   ]
  },
  {
   "cell_type": "code",
   "execution_count": 4,
   "id": "entertaining-deputy",
   "metadata": {},
   "outputs": [],
   "source": [
    "dat = dat.sample(n=102000,\n",
    "                random_state=271)"
   ]
  },
  {
   "cell_type": "code",
   "execution_count": 5,
   "id": "attempted-cornell",
   "metadata": {},
   "outputs": [],
   "source": [
    "train, test = train_test_split(dat,\n",
    "                               test_size=2000,\n",
    "                               random_state=271)"
   ]
  },
  {
   "cell_type": "code",
   "execution_count": 6,
   "id": "textile-series",
   "metadata": {},
   "outputs": [
    {
     "name": "stdout",
     "output_type": "stream",
     "text": [
      "102000 100000 2000\n"
     ]
    }
   ],
   "source": [
    "print(len(dat),len(train),len(test))"
   ]
  },
  {
   "cell_type": "code",
   "execution_count": 7,
   "id": "cardiac-entrance",
   "metadata": {},
   "outputs": [],
   "source": [
    "dat = train"
   ]
  },
  {
   "cell_type": "code",
   "execution_count": 8,
   "id": "ceramic-participant",
   "metadata": {},
   "outputs": [
    {
     "data": {
      "text/plain": [
       "genre\n",
       "fantasy    0.46529\n",
       "history    0.27827\n",
       "mystery    0.25644\n",
       "Name: user_id, dtype: float64"
      ]
     },
     "execution_count": 8,
     "metadata": {},
     "output_type": "execute_result"
    }
   ],
   "source": [
    "dat.groupby(\"genre\").count()[\"user_id\"]/len(dat)"
   ]
  },
  {
   "cell_type": "markdown",
   "id": "bottom-campus",
   "metadata": {},
   "source": [
    "Rating Distribution"
   ]
  },
  {
   "cell_type": "code",
   "execution_count": 9,
   "id": "severe-thompson",
   "metadata": {},
   "outputs": [
    {
     "data": {
      "text/plain": [
       "rating\n",
       "0    0.02799\n",
       "1    0.02697\n",
       "2    0.07321\n",
       "3    0.20490\n",
       "4    0.34255\n",
       "5    0.32438\n",
       "Name: user_id, dtype: float64"
      ]
     },
     "execution_count": 9,
     "metadata": {},
     "output_type": "execute_result"
    }
   ],
   "source": [
    "dat.groupby(\"rating\").count()[\"user_id\"]/len(dat)"
   ]
  },
  {
   "cell_type": "code",
   "execution_count": 10,
   "id": "institutional-converter",
   "metadata": {},
   "outputs": [
    {
     "data": {
      "text/plain": [
       "<AxesSubplot:>"
      ]
     },
     "execution_count": 10,
     "metadata": {},
     "output_type": "execute_result"
    },
    {
     "data": {
      "image/png": "[encoded data removed]",
      "text/plain": [
       "<Figure size 432x288 with 1 Axes>"
      ]
     },
     "metadata": {
      "needs_background": "light"
     },
     "output_type": "display_data"
    }
   ],
   "source": [
    "dat[\"rating\"].hist(bins=np.arange(7)-0.5)"
   ]
  },
  {
   "cell_type": "markdown",
   "id": "romantic-jordan",
   "metadata": {},
   "source": [
    "Number of Likes Distribution"
   ]
  },
  {
   "cell_type": "code",
   "execution_count": 11,
   "id": "serial-knife",
   "metadata": {},
   "outputs": [
    {
     "data": {
      "text/plain": [
       "0.25     0.0\n",
       "0.50     0.0\n",
       "0.75     1.0\n",
       "0.90     3.0\n",
       "0.95     6.0\n",
       "0.99    24.0\n",
       "Name: n_likes, dtype: float64"
      ]
     },
     "execution_count": 11,
     "metadata": {},
     "output_type": "execute_result"
    }
   ],
   "source": [
    "dat[\"n_likes\"].quantile([.25,.5,.75,.9,.95,.99])"
   ]
  },
  {
   "cell_type": "code",
   "execution_count": 12,
   "id": "particular-california",
   "metadata": {},
   "outputs": [
    {
     "data": {
      "text/plain": [
       "<AxesSubplot:>"
      ]
     },
     "execution_count": 12,
     "metadata": {},
     "output_type": "execute_result"
    },
    {
     "data": {
      "image/png": "[encoded data removed]",
      "text/plain": [
       "<Figure size 432x288 with 1 Axes>"
      ]
     },
     "metadata": {
      "needs_background": "light"
     },
     "output_type": "display_data"
    }
   ],
   "source": [
    "dat[\"n_likes\"].hist(range=(0,25))"
   ]
  },
  {
   "cell_type": "markdown",
   "id": "lucky-cedar",
   "metadata": {},
   "source": [
    "Frequently Occurring books/users"
   ]
  },
  {
   "cell_type": "code",
   "execution_count": 13,
   "id": "radio-budget",
   "metadata": {},
   "outputs": [
    {
     "data": {
      "text/plain": [
       "book_id\n",
       "22557272    183\n",
       "19063       163\n",
       "8442457     143\n",
       "256683      141\n",
       "41865       138\n",
       "18007564    131\n",
       "9361589     127\n",
       "9460487     125\n",
       "4667024     121\n",
       "29056083    118\n",
       "Name: user_id, dtype: int64"
      ]
     },
     "execution_count": 13,
     "metadata": {},
     "output_type": "execute_result"
    }
   ],
   "source": [
    "# most reviewed books in my sample\n",
    "dat.groupby(\"book_id\").count()[\"user_id\"].sort_values()[::-1][:10]"
   ]
  },
  {
   "cell_type": "code",
   "execution_count": 14,
   "id": "selected-revolution",
   "metadata": {},
   "outputs": [
    {
     "data": {
      "text/plain": [
       "0.01     1.0\n",
       "0.05     1.0\n",
       "0.10     1.0\n",
       "0.25     1.0\n",
       "0.50     1.0\n",
       "0.75     1.0\n",
       "0.90     3.0\n",
       "0.95     5.0\n",
       "0.99    14.0\n",
       "Name: user_id, dtype: float64"
      ]
     },
     "execution_count": 14,
     "metadata": {},
     "output_type": "execute_result"
    }
   ],
   "source": [
    "dat.groupby(\"book_id\").count()[\"user_id\"].quantile([.01,.05,.10,.25,.5,.75,.9,.95,.99])"
   ]
  },
  {
   "cell_type": "code",
   "execution_count": 15,
   "id": "optical-indianapolis",
   "metadata": {},
   "outputs": [
    {
     "data": {
      "text/plain": [
       "user_id\n",
       "843a44e2499ba9362b47a089b0b0ce75    66\n",
       "a45fb5d39a6a9857ff8362900790510a    64\n",
       "fca26c34be8fe623ee340061f1281796    57\n",
       "e5905d648022af7b1309d82a1f4d255b    46\n",
       "795595616d3dbd81bd16b617c9a1fa48    44\n",
       "f070f1cc66d79485f12f9a185afb9413    44\n",
       "c5b70e45e230a166bb00201662495d69    41\n",
       "60982541be85a0611e9634b4f63d0cb0    41\n",
       "61ed555f078cd656a96e144906102169    39\n",
       "b0ed09d14a462cb2d27327b87edf6f68    36\n",
       "Name: book_id, dtype: int64"
      ]
     },
     "execution_count": 15,
     "metadata": {},
     "output_type": "execute_result"
    }
   ],
   "source": [
    "# most-reviews-written users in my sample\n",
    "dat.groupby(\"user_id\").count()[\"book_id\"].sort_values()[::-1][:10]"
   ]
  },
  {
   "cell_type": "markdown",
   "id": "improving-newman",
   "metadata": {},
   "source": [
    "Review Length Distribution"
   ]
  },
  {
   "cell_type": "code",
   "execution_count": 16,
   "id": "christian-driver",
   "metadata": {},
   "outputs": [
    {
     "data": {
      "text/plain": [
       "0.01      2.0\n",
       "0.05      5.0\n",
       "0.10      8.0\n",
       "0.25     16.0\n",
       "0.50     36.0\n",
       "0.75     86.0\n",
       "0.90    171.0\n",
       "0.95    240.0\n",
       "0.99    423.0\n",
       "Name: tokens, dtype: float64"
      ]
     },
     "execution_count": 16,
     "metadata": {},
     "output_type": "execute_result"
    }
   ],
   "source": [
    "dat[\"tokens\"].apply(len).quantile([.01,.05,.10,.25,.5,.75,.9,.95,.99])"
   ]
  },
  {
   "cell_type": "code",
   "execution_count": 17,
   "id": "distributed-yorkshire",
   "metadata": {},
   "outputs": [
    {
     "data": {
      "text/plain": [
       "<AxesSubplot:>"
      ]
     },
     "execution_count": 17,
     "metadata": {},
     "output_type": "execute_result"
    },
    {
     "data": {
      "image/png": "[encoded data removed]",
      "text/plain": [
       "<Figure size 432x288 with 1 Axes>"
      ]
     },
     "metadata": {
      "needs_background": "light"
     },
     "output_type": "display_data"
    }
   ],
   "source": [
    "dat[\"tokens\"].apply(len).hist(bins=30)"
   ]
  },
  {
   "cell_type": "markdown",
   "id": "weighted-elephant",
   "metadata": {},
   "source": [
    "## Vocabulary Overview"
   ]
  },
  {
   "cell_type": "code",
   "execution_count": 18,
   "id": "illegal-array",
   "metadata": {},
   "outputs": [],
   "source": [
    "# tokenize\n",
    "tokens = [word for lst in dat[\"tokens\"] for word in lst]\n",
    "tokens_freq = nltk.FreqDist(tokens)"
   ]
  },
  {
   "cell_type": "code",
   "execution_count": 19,
   "id": "changed-peeing",
   "metadata": {},
   "outputs": [
    {
     "data": {
      "text/plain": [
       "95345"
      ]
     },
     "execution_count": 19,
     "metadata": {},
     "output_type": "execute_result"
    }
   ],
   "source": [
    "# vocab length\n",
    "len(tokens_freq)"
   ]
  },
  {
   "cell_type": "code",
   "execution_count": 20,
   "id": "worth-protocol",
   "metadata": {},
   "outputs": [
    {
     "data": {
      "text/plain": [
       "6872694"
      ]
     },
     "execution_count": 20,
     "metadata": {},
     "output_type": "execute_result"
    }
   ],
   "source": [
    "# total words\n",
    "sum(tokens_freq.values())"
   ]
  },
  {
   "cell_type": "code",
   "execution_count": 21,
   "id": "sharp-german",
   "metadata": {},
   "outputs": [
    {
     "data": {
      "image/png": "[encoded data removed]",
      "text/plain": [
       "<Figure size 1080x360 with 1 Axes>"
      ]
     },
     "metadata": {
      "needs_background": "light"
     },
     "output_type": "display_data"
    },
    {
     "data": {
      "text/plain": [
       "<AxesSubplot:xlabel='Samples', ylabel='Counts'>"
      ]
     },
     "execution_count": 21,
     "metadata": {},
     "output_type": "execute_result"
    }
   ],
   "source": [
    "import matplotlib.pyplot as plt\n",
    "plt.figure(figsize=(15,5))\n",
    "tokens_freq.plot(100)"
   ]
  },
  {
   "cell_type": "code",
   "execution_count": 22,
   "id": "convinced-belfast",
   "metadata": {},
   "outputs": [
    {
     "name": "stderr",
     "output_type": "stream",
     "text": [
      "/usr/local/lib/python3.9/site-packages/gensim/similarities/__init__.py:15: UserWarning: The gensim.similarities.levenshtein submodule is disabled, because the optional Levenshtein package <https://pypi.org/project/python-Levenshtein/> is unavailable. Install Levenhstein (e.g. `pip install python-Levenshtein`) to suppress this warning.\n",
      "  warnings.warn(msg)\n"
     ]
    }
   ],
   "source": [
    "from gensim.corpora import Dictionary"
   ]
  },
  {
   "cell_type": "code",
   "execution_count": 23,
   "id": "collectible-privilege",
   "metadata": {},
   "outputs": [],
   "source": [
    "# build dictionary\n",
    "reviews = dat[\"tokens\"].tolist()\n",
    "dictionary = Dictionary(reviews)"
   ]
  },
  {
   "cell_type": "code",
   "execution_count": 24,
   "id": "herbal-remainder",
   "metadata": {},
   "outputs": [],
   "source": [
    "doc_frequencies = [value/100000 for value in dictionary.dfs.values()]"
   ]
  },
  {
   "cell_type": "code",
   "execution_count": 25,
   "id": "incorrect-realtor",
   "metadata": {},
   "outputs": [
    {
     "data": {
      "text/plain": [
       "0.01    0.000010\n",
       "0.05    0.000010\n",
       "0.10    0.000010\n",
       "0.25    0.000010\n",
       "0.50    0.000020\n",
       "0.75    0.000070\n",
       "0.90    0.000410\n",
       "0.95    0.001230\n",
       "0.99    0.009796\n",
       "dtype: float64"
      ]
     },
     "execution_count": 25,
     "metadata": {},
     "output_type": "execute_result"
    }
   ],
   "source": [
    "pd.Series(doc_frequencies).quantile([.01,.05,.10,.25,.5,.75,.9,.95,.99])"
   ]
  },
  {
   "cell_type": "code",
   "execution_count": 26,
   "id": "surprising-marshall",
   "metadata": {},
   "outputs": [
    {
     "data": {
      "text/plain": [
       "29     0.66055\n",
       "2      0.44871\n",
       "38     0.38612\n",
       "162    0.36253\n",
       "36     0.33842\n",
       "405    0.30218\n",
       "318    0.27128\n",
       "46     0.25244\n",
       "223    0.23446\n",
       "17     0.23162\n",
       "dtype: float64"
      ]
     },
     "execution_count": 26,
     "metadata": {},
     "output_type": "execute_result"
    }
   ],
   "source": [
    "pd.Series(doc_frequencies).sort_values()[::-1][:10]"
   ]
  },
  {
   "cell_type": "code",
   "execution_count": 27,
   "id": "digital-links",
   "metadata": {},
   "outputs": [],
   "source": [
    "# remove top 4 most common words (in more than 35% of reviews)"
   ]
  },
  {
   "cell_type": "code",
   "execution_count": 28,
   "id": "previous-alaska",
   "metadata": {},
   "outputs": [
    {
     "data": {
      "text/plain": [
       "0.01      1.00\n",
       "0.05      1.00\n",
       "0.10      1.00\n",
       "0.25      1.00\n",
       "0.50      2.00\n",
       "0.75      7.00\n",
       "0.90     41.00\n",
       "0.95    123.00\n",
       "0.99    979.56\n",
       "dtype: float64"
      ]
     },
     "execution_count": 28,
     "metadata": {},
     "output_type": "execute_result"
    }
   ],
   "source": [
    "pd.Series(dictionary.dfs.values()).quantile([.01,.05,.10,.25,.5,.75,.9,.95,.99])"
   ]
  },
  {
   "cell_type": "code",
   "execution_count": 29,
   "id": "alive-raising",
   "metadata": {},
   "outputs": [],
   "source": [
    "# remove words occurring in fewer than 20 reviews"
   ]
  },
  {
   "cell_type": "code",
   "execution_count": 30,
   "id": "removable-worker",
   "metadata": {},
   "outputs": [],
   "source": [
    "dictionary.filter_extremes(no_below=20,no_above=0.35)"
   ]
  },
  {
   "cell_type": "code",
   "execution_count": 31,
   "id": "documentary-daughter",
   "metadata": {},
   "outputs": [
    {
     "data": {
      "text/plain": [
       "14693"
      ]
     },
     "execution_count": 31,
     "metadata": {},
     "output_type": "execute_result"
    }
   ],
   "source": [
    "len(dictionary.token2id)"
   ]
  }
 ],
 "metadata": {
  "kernelspec": {
   "display_name": "Python 3",
   "language": "python",
   "name": "python3"
  },
  "language_info": {
   "codemirror_mode": {
    "name": "ipython",
    "version": 3
   },
   "file_extension": ".py",
   "mimetype": "text/x-python",
   "name": "python",
   "nbconvert_exporter": "python",
   "pygments_lexer": "ipython3",
   "version": "3.9.5"
  }
 },
 "nbformat": 4,
 "nbformat_minor": 5
}

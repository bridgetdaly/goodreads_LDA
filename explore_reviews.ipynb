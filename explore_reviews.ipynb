{
 "cells": [
  {
   "cell_type": "code",
   "execution_count": 1,
   "id": "palestinian-expression",
   "metadata": {},
   "outputs": [],
   "source": [
    "import pandas as pd\n",
    "import numpy as np\n",
    "import nltk\n",
    "from sklearn.model_selection import train_test_split"
   ]
  },
  {
   "cell_type": "markdown",
   "id": "funny-lemon",
   "metadata": {},
   "source": [
    "## Data Overview"
   ]
  },
  {
   "cell_type": "code",
   "execution_count": 2,
   "id": "seeing-devil",
   "metadata": {},
   "outputs": [],
   "source": [
    "dat = pd.read_csv(\"data/reviews.csv\")"
   ]
  },
  {
   "cell_type": "code",
   "execution_count": 3,
   "id": "conceptual-harvey",
   "metadata": {},
   "outputs": [
    {
     "data": {
      "text/plain": [
       "621450"
      ]
     },
     "execution_count": 3,
     "metadata": {},
     "output_type": "execute_result"
    }
   ],
   "source": [
    "len(dat)"
   ]
  },
  {
   "cell_type": "code",
   "execution_count": 4,
   "id": "practical-captain",
   "metadata": {},
   "outputs": [],
   "source": [
    "dat = dat.sample(n=102000,\n",
    "                random_state=271)"
   ]
  },
  {
   "cell_type": "code",
   "execution_count": 5,
   "id": "auburn-tribute",
   "metadata": {},
   "outputs": [],
   "source": [
    "train, test = train_test_split(dat,\n",
    "                               test_size=2000,\n",
    "                               random_state=271)"
   ]
  },
  {
   "cell_type": "code",
   "execution_count": 6,
   "id": "focal-decrease",
   "metadata": {},
   "outputs": [
    {
     "name": "stdout",
     "output_type": "stream",
     "text": [
      "102000 100000 2000\n"
     ]
    }
   ],
   "source": [
    "print(len(dat),len(train),len(test))"
   ]
  },
  {
   "cell_type": "code",
   "execution_count": 7,
   "id": "cutting-easter",
   "metadata": {},
   "outputs": [],
   "source": [
    "dat = train"
   ]
  },
  {
   "cell_type": "code",
   "execution_count": 8,
   "id": "electronic-picture",
   "metadata": {},
   "outputs": [
    {
     "data": {
      "text/plain": [
       "genre\n",
       "fantasy    0.46554\n",
       "history    0.27756\n",
       "mystery    0.25690\n",
       "Name: user_id, dtype: float64"
      ]
     },
     "execution_count": 8,
     "metadata": {},
     "output_type": "execute_result"
    }
   ],
   "source": [
    "dat.groupby(\"genre\").count()[\"user_id\"]/len(dat)"
   ]
  },
  {
   "cell_type": "markdown",
   "id": "bacterial-consortium",
   "metadata": {},
   "source": [
    "Rating Distribution"
   ]
  },
  {
   "cell_type": "code",
   "execution_count": 9,
   "id": "green-fellowship",
   "metadata": {},
   "outputs": [
    {
     "data": {
      "text/plain": [
       "rating\n",
       "0    0.02681\n",
       "1    0.02797\n",
       "2    0.07180\n",
       "3    0.20435\n",
       "4    0.34660\n",
       "5    0.32247\n",
       "Name: user_id, dtype: float64"
      ]
     },
     "execution_count": 9,
     "metadata": {},
     "output_type": "execute_result"
    }
   ],
   "source": [
    "dat.groupby(\"rating\").count()[\"user_id\"]/len(dat)"
   ]
  },
  {
   "cell_type": "code",
   "execution_count": 10,
   "id": "clean-session",
   "metadata": {},
   "outputs": [
    {
     "data": {
      "text/plain": [
       "<AxesSubplot:>"
      ]
     },
     "execution_count": 10,
     "metadata": {},
     "output_type": "execute_result"
    },
    {
     "data": {
      "image/png": "[encoded data removed]",
      "text/plain": [
       "<Figure size 432x288 with 1 Axes>"
      ]
     },
     "metadata": {
      "needs_background": "light"
     },
     "output_type": "display_data"
    }
   ],
   "source": [
    "dat[\"rating\"].hist(bins=np.arange(7)-0.5)"
   ]
  },
  {
   "cell_type": "markdown",
   "id": "random-genre",
   "metadata": {},
   "source": [
    "Number of Likes Distribution"
   ]
  },
  {
   "cell_type": "code",
   "execution_count": 11,
   "id": "million-drawing",
   "metadata": {},
   "outputs": [
    {
     "data": {
      "text/plain": [
       "0.25     0.0\n",
       "0.50     0.0\n",
       "0.75     1.0\n",
       "0.90     3.0\n",
       "0.95     6.0\n",
       "0.99    25.0\n",
       "Name: n_likes, dtype: float64"
      ]
     },
     "execution_count": 11,
     "metadata": {},
     "output_type": "execute_result"
    }
   ],
   "source": [
    "dat[\"n_likes\"].quantile([.25,.5,.75,.9,.95,.99])"
   ]
  },
  {
   "cell_type": "code",
   "execution_count": 12,
   "id": "unexpected-guidance",
   "metadata": {},
   "outputs": [
    {
     "data": {
      "text/plain": [
       "<AxesSubplot:>"
      ]
     },
     "execution_count": 12,
     "metadata": {},
     "output_type": "execute_result"
    },
    {
     "data": {
      "image/png": "[encoded data removed]",
      "text/plain": [
       "<Figure size 432x288 with 1 Axes>"
      ]
     },
     "metadata": {
      "needs_background": "light"
     },
     "output_type": "display_data"
    }
   ],
   "source": [
    "dat[\"n_likes\"].hist(range=(0,25))"
   ]
  },
  {
   "cell_type": "markdown",
   "id": "dangerous-worship",
   "metadata": {},
   "source": [
    "Frequently Occurring books/users"
   ]
  },
  {
   "cell_type": "code",
   "execution_count": 13,
   "id": "outstanding-battlefield",
   "metadata": {},
   "outputs": [
    {
     "data": {
      "text/plain": [
       "book_id\n",
       "22557272    214\n",
       "19063       150\n",
       "41865       145\n",
       "8442457     143\n",
       "9460487     137\n",
       "29056083    134\n",
       "18007564    127\n",
       "9361589     123\n",
       "11235712    119\n",
       "4667024     113\n",
       "Name: user_id, dtype: int64"
      ]
     },
     "execution_count": 13,
     "metadata": {},
     "output_type": "execute_result"
    }
   ],
   "source": [
    "# most reviewed books in my sample\n",
    "dat.groupby(\"book_id\").count()[\"user_id\"].sort_values()[::-1][:10]"
   ]
  },
  {
   "cell_type": "code",
   "execution_count": 14,
   "id": "virgin-exercise",
   "metadata": {},
   "outputs": [
    {
     "data": {
      "text/plain": [
       "0.01     1.0\n",
       "0.05     1.0\n",
       "0.10     1.0\n",
       "0.25     1.0\n",
       "0.50     1.0\n",
       "0.75     1.0\n",
       "0.90     3.0\n",
       "0.95     5.0\n",
       "0.99    14.0\n",
       "Name: user_id, dtype: float64"
      ]
     },
     "execution_count": 14,
     "metadata": {},
     "output_type": "execute_result"
    }
   ],
   "source": [
    "dat.groupby(\"book_id\").count()[\"user_id\"].quantile([.01,.05,.10,.25,.5,.75,.9,.95,.99])"
   ]
  },
  {
   "cell_type": "code",
   "execution_count": 15,
   "id": "considerable-reference",
   "metadata": {},
   "outputs": [
    {
     "data": {
      "text/plain": [
       "user_id\n",
       "843a44e2499ba9362b47a089b0b0ce75    69\n",
       "fca26c34be8fe623ee340061f1281796    61\n",
       "795595616d3dbd81bd16b617c9a1fa48    58\n",
       "a45fb5d39a6a9857ff8362900790510a    47\n",
       "60982541be85a0611e9634b4f63d0cb0    44\n",
       "b7772313835ce6257a3fbe7ad2649a29    43\n",
       "e5905d648022af7b1309d82a1f4d255b    38\n",
       "a429d42a56b36e313473187d2253b0a6    37\n",
       "cf9e7ec0d08bd6db6f9330378c1239bf    37\n",
       "a6cbfded0f87328f3006c80941c0aca4    36\n",
       "Name: book_id, dtype: int64"
      ]
     },
     "execution_count": 15,
     "metadata": {},
     "output_type": "execute_result"
    }
   ],
   "source": [
    "# most-reviews-written users in my sample\n",
    "dat.groupby(\"user_id\").count()[\"book_id\"].sort_values()[::-1][:10]"
   ]
  },
  {
   "cell_type": "markdown",
   "id": "sporting-modeling",
   "metadata": {},
   "source": [
    "Review Length Distribution"
   ]
  },
  {
   "cell_type": "code",
   "execution_count": 16,
   "id": "small-express",
   "metadata": {},
   "outputs": [],
   "source": [
    "dat[\"tokenized_words\"] = dat[\"tokenized_words\"].astype(str)"
   ]
  },
  {
   "cell_type": "code",
   "execution_count": 17,
   "id": "responsible-europe",
   "metadata": {},
   "outputs": [
    {
     "data": {
      "text/plain": [
       "0.01      11.00\n",
       "0.05      30.00\n",
       "0.10      48.00\n",
       "0.25     104.00\n",
       "0.50     245.00\n",
       "0.75     590.00\n",
       "0.90    1173.00\n",
       "0.95    1644.05\n",
       "0.99    2887.01\n",
       "Name: tokenized_words, dtype: float64"
      ]
     },
     "execution_count": 17,
     "metadata": {},
     "output_type": "execute_result"
    }
   ],
   "source": [
    "dat[\"tokenized_words\"].apply(len).quantile([.01,.05,.10,.25,.5,.75,.9,.95,.99])"
   ]
  },
  {
   "cell_type": "code",
   "execution_count": 18,
   "id": "alike-accommodation",
   "metadata": {},
   "outputs": [
    {
     "data": {
      "text/plain": [
       "<AxesSubplot:>"
      ]
     },
     "execution_count": 18,
     "metadata": {},
     "output_type": "execute_result"
    },
    {
     "data": {
      "image/png": "[encoded data removed]",
      "text/plain": [
       "<Figure size 432x288 with 1 Axes>"
      ]
     },
     "metadata": {
      "needs_background": "light"
     },
     "output_type": "display_data"
    }
   ],
   "source": [
    "dat[\"tokenized_words\"].apply(len).hist(bins=30)"
   ]
  },
  {
   "cell_type": "markdown",
   "id": "collected-beast",
   "metadata": {},
   "source": [
    "## Vocabulary Overview"
   ]
  },
  {
   "cell_type": "code",
   "execution_count": 19,
   "id": "dressed-dollar",
   "metadata": {},
   "outputs": [],
   "source": [
    "# tokenize\n",
    "tokens = dat[\"tokenized_words\"].apply(lambda review: [word for word in nltk.tokenize.word_tokenize(review)])\n",
    "tokens = [word for lst in tokens for word in lst]\n",
    "tokens_freq = nltk.FreqDist(tokens)"
   ]
  },
  {
   "cell_type": "code",
   "execution_count": 20,
   "id": "ignored-korea",
   "metadata": {},
   "outputs": [
    {
     "data": {
      "text/plain": [
       "95607"
      ]
     },
     "execution_count": 20,
     "metadata": {},
     "output_type": "execute_result"
    }
   ],
   "source": [
    "# vocab length\n",
    "len(tokens_freq)"
   ]
  },
  {
   "cell_type": "code",
   "execution_count": 21,
   "id": "hindu-burlington",
   "metadata": {},
   "outputs": [
    {
     "data": {
      "text/plain": [
       "6902853"
      ]
     },
     "execution_count": 21,
     "metadata": {},
     "output_type": "execute_result"
    }
   ],
   "source": [
    "# total words\n",
    "sum(tokens_freq.values())"
   ]
  },
  {
   "cell_type": "code",
   "execution_count": 22,
   "id": "adjacent-phenomenon",
   "metadata": {},
   "outputs": [
    {
     "data": {
      "image/png": "[encoded data removed]",
      "text/plain": [
       "<Figure size 1080x360 with 1 Axes>"
      ]
     },
     "metadata": {
      "needs_background": "light"
     },
     "output_type": "display_data"
    },
    {
     "data": {
      "text/plain": [
       "<AxesSubplot:xlabel='Samples', ylabel='Counts'>"
      ]
     },
     "execution_count": 22,
     "metadata": {},
     "output_type": "execute_result"
    }
   ],
   "source": [
    "import matplotlib.pyplot as plt\n",
    "plt.figure(figsize=(15,5))\n",
    "tokens_freq.plot(100)"
   ]
  },
  {
   "cell_type": "code",
   "execution_count": 23,
   "id": "photographic-musician",
   "metadata": {},
   "outputs": [
    {
     "name": "stderr",
     "output_type": "stream",
     "text": [
      "/usr/local/lib/python3.9/site-packages/gensim/similarities/__init__.py:15: UserWarning: The gensim.similarities.levenshtein submodule is disabled, because the optional Levenshtein package <https://pypi.org/project/python-Levenshtein/> is unavailable. Install Levenhstein (e.g. `pip install python-Levenshtein`) to suppress this warning.\n",
      "  warnings.warn(msg)\n"
     ]
    }
   ],
   "source": [
    "from gensim.corpora import Dictionary"
   ]
  },
  {
   "cell_type": "code",
   "execution_count": 24,
   "id": "minimal-remains",
   "metadata": {},
   "outputs": [],
   "source": [
    "# build dictionary\n",
    "dat[\"tokenized\"] = dat[\"tokenized_words\"].apply(lambda review: [word for word in nltk.tokenize.word_tokenize(review)])\n",
    "reviews = dat[\"tokenized\"].tolist()\n",
    "dictionary = Dictionary(reviews)"
   ]
  },
  {
   "cell_type": "code",
   "execution_count": 25,
   "id": "another-passion",
   "metadata": {},
   "outputs": [],
   "source": [
    "doc_frequencies = [value/100000 for value in dictionary.dfs.values()]"
   ]
  },
  {
   "cell_type": "code",
   "execution_count": 26,
   "id": "written-outreach",
   "metadata": {},
   "outputs": [
    {
     "data": {
      "text/plain": [
       "0.01    0.00001\n",
       "0.05    0.00001\n",
       "0.10    0.00001\n",
       "0.25    0.00001\n",
       "0.50    0.00002\n",
       "0.75    0.00007\n",
       "0.90    0.00041\n",
       "0.95    0.00123\n",
       "0.99    0.00980\n",
       "dtype: float64"
      ]
     },
     "execution_count": 26,
     "metadata": {},
     "output_type": "execute_result"
    }
   ],
   "source": [
    "pd.Series(doc_frequencies).quantile([.01,.05,.10,.25,.5,.75,.9,.95,.99])"
   ]
  },
  {
   "cell_type": "code",
   "execution_count": 27,
   "id": "confident-impact",
   "metadata": {},
   "outputs": [
    {
     "data": {
      "text/plain": [
       "3      0.66420\n",
       "137    0.45077\n",
       "167    0.38559\n",
       "40     0.36324\n",
       "30     0.33975\n",
       "114    0.30347\n",
       "13     0.27315\n",
       "19     0.25328\n",
       "204    0.23127\n",
       "116    0.22983\n",
       "dtype: float64"
      ]
     },
     "execution_count": 27,
     "metadata": {},
     "output_type": "execute_result"
    }
   ],
   "source": [
    "pd.Series(doc_frequencies).sort_values()[::-1][:10]"
   ]
  },
  {
   "cell_type": "code",
   "execution_count": 28,
   "id": "considered-center",
   "metadata": {},
   "outputs": [],
   "source": [
    "# remove top 4 most common words (in more than 35% of reviews)"
   ]
  },
  {
   "cell_type": "code",
   "execution_count": 29,
   "id": "essential-experience",
   "metadata": {},
   "outputs": [
    {
     "data": {
      "text/plain": [
       "0.01      1.0\n",
       "0.05      1.0\n",
       "0.10      1.0\n",
       "0.25      1.0\n",
       "0.50      2.0\n",
       "0.75      7.0\n",
       "0.90     41.0\n",
       "0.95    123.0\n",
       "0.99    980.0\n",
       "dtype: float64"
      ]
     },
     "execution_count": 29,
     "metadata": {},
     "output_type": "execute_result"
    }
   ],
   "source": [
    "pd.Series(dictionary.dfs.values()).quantile([.01,.05,.10,.25,.5,.75,.9,.95,.99])"
   ]
  },
  {
   "cell_type": "code",
   "execution_count": 30,
   "id": "exceptional-waterproof",
   "metadata": {},
   "outputs": [],
   "source": [
    "# remove words occurring in fewer than 10 reviews (maybe increase?)"
   ]
  },
  {
   "cell_type": "code",
   "execution_count": 31,
   "id": "reasonable-scholar",
   "metadata": {},
   "outputs": [],
   "source": [
    "dictionary.filter_extremes(no_below=20,no_above=0.35)"
   ]
  },
  {
   "cell_type": "code",
   "execution_count": 32,
   "id": "loose-convention",
   "metadata": {},
   "outputs": [
    {
     "data": {
      "text/plain": [
       "14737"
      ]
     },
     "execution_count": 32,
     "metadata": {},
     "output_type": "execute_result"
    }
   ],
   "source": [
    "len(dictionary.token2id)"
   ]
  }
 ],
 "metadata": {
  "kernelspec": {
   "display_name": "Python 3",
   "language": "python",
   "name": "python3"
  },
  "language_info": {
   "codemirror_mode": {
    "name": "ipython",
    "version": 3
   },
   "file_extension": ".py",
   "mimetype": "text/x-python",
   "name": "python",
   "nbconvert_exporter": "python",
   "pygments_lexer": "ipython3",
   "version": "3.9.5"
  }
 },
 "nbformat": 4,
 "nbformat_minor": 5
}

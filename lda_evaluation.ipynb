{
 "cells": [
  {
   "cell_type": "code",
   "execution_count": 1,
   "id": "undefined-addition",
   "metadata": {},
   "outputs": [
    {
     "name": "stderr",
     "output_type": "stream",
     "text": [
      "/usr/local/lib/python3.9/site-packages/gensim/similarities/__init__.py:15: UserWarning: The gensim.similarities.levenshtein submodule is disabled, because the optional Levenshtein package <https://pypi.org/project/python-Levenshtein/> is unavailable. Install Levenhstein (e.g. `pip install python-Levenshtein`) to suppress this warning.\n",
      "  warnings.warn(msg)\n"
     ]
    }
   ],
   "source": [
    "import pandas as pd\n",
    "import numpy as np\n",
    "import pickle\n",
    "from pprint import pprint\n",
    "import matplotlib.pyplot as plt\n",
    "from gensim.corpora import Dictionary, MmCorpus\n",
    "from gensim.models import LdaModel\n",
    "from gensim.test.utils import datapath"
   ]
  },
  {
   "cell_type": "code",
   "execution_count": 2,
   "id": "burning-maker",
   "metadata": {},
   "outputs": [],
   "source": [
    "# load data\n",
    "dictionary = Dictionary.load(\"data/dictionary.pkl\")\n",
    "temp_file = open(\"data/train.pkl\", \"rb\")\n",
    "train = pickle.load(temp_file)\n",
    "train.reset_index(drop=True, inplace=True)\n",
    "temp_file.close()\n",
    "train_reviews = train[\"tokens\"].tolist()\n",
    "train_corpus = MmCorpus(\"data/train_corpus.mm\")"
   ]
  },
  {
   "cell_type": "markdown",
   "id": "tough-exploration",
   "metadata": {},
   "source": [
    "### LDA"
   ]
  },
  {
   "cell_type": "code",
   "execution_count": 3,
   "id": "flexible-cambridge",
   "metadata": {},
   "outputs": [],
   "source": [
    "# load best model (20 topics)\n",
    "lda = LdaModel.load(datapath(\"lda_20\"))"
   ]
  },
  {
   "cell_type": "code",
   "execution_count": 4,
   "id": "changing-recruitment",
   "metadata": {},
   "outputs": [
    {
     "data": {
      "text/plain": [
       "array([0.05021863, 0.05223789, 0.06901904, 0.14681493, 0.03687393,\n",
       "       0.0456535 , 0.08080044, 0.07867136, 0.04449197, 0.05856434,\n",
       "       0.03990827, 0.05818802, 0.07114197, 0.03763724, 0.07104202,\n",
       "       0.05228801, 0.07346187, 0.05563435, 0.04022862, 0.0654724 ],\n",
       "      dtype=float32)"
      ]
     },
     "execution_count": 4,
     "metadata": {},
     "output_type": "execute_result"
    }
   ],
   "source": [
    "# learned topic proportion prior\n",
    "lda.alpha"
   ]
  },
  {
   "cell_type": "code",
   "execution_count": 5,
   "id": "accomplished-camping",
   "metadata": {},
   "outputs": [],
   "source": [
    "# track topic proportions and counts by genre and rating\n",
    "genre_props = np.zeros((3,20))\n",
    "genre_counts = np.zeros((3,20))\n",
    "rating_props = np.zeros((6,20))\n",
    "rating_counts = np.zeros((6,20))\n",
    "\n",
    "genre_dict = {\n",
    "    \"fantasy\": 0,\n",
    "    \"history\": 1,\n",
    "    \"mystery\": 2\n",
    "}\n",
    "\n",
    "# and find representative documents for each topic (max prop)\n",
    "topic_doc_dict = {\n",
    "    0:[], 1:[], 2:[], 3:[], 4:[], 5:[], 6:[], 7:[], 8:[], 9:[],\n",
    "    10:[], 11:[], 12:[], 13:[], 14:[], 15:[], 16:[], 17:[], 18:[], 19:[],\n",
    "}\n",
    "\n",
    "# gather above info for each doc\n",
    "for i, doc in enumerate(train_corpus):\n",
    "    doc_genre = train.loc[i,\"genre\"]\n",
    "    doc_rating = train.loc[i,\"rating\"]\n",
    "    topic_props = lda.get_document_topics(doc, minimum_probability=0.01)\n",
    "    doc_max_prop = (0,0)\n",
    "    for top in topic_props:\n",
    "        genre_props[genre_dict[doc_genre],top[0]] += top[1]\n",
    "        genre_counts[genre_dict[doc_genre],top[0]] += 1\n",
    "        rating_props[doc_rating,top[0]] += top[1]\n",
    "        rating_counts[doc_rating,top[0]] += 1\n",
    "        # track topic with max proportion in document\n",
    "        if top[1] > doc_max_prop[1]:\n",
    "            doc_max_prop = top\n",
    "    # add doc to dict for topic of max proportion\n",
    "    topic_doc_dict[doc_max_prop[0]].append((i,doc_max_prop[1]))"
   ]
  },
  {
   "cell_type": "code",
   "execution_count": 6,
   "id": "owned-polymer",
   "metadata": {},
   "outputs": [
    {
     "data": {
      "text/plain": [
       "4.836711424863239"
      ]
     },
     "execution_count": 6,
     "metadata": {},
     "output_type": "execute_result"
    }
   ],
   "source": [
    "# average topics per review\n",
    "genre_counts.sum()/len(train_corpus)"
   ]
  },
  {
   "cell_type": "code",
   "execution_count": 7,
   "id": "roman-warning",
   "metadata": {},
   "outputs": [
    {
     "data": {
      "text/plain": [
       "array([4.80868769, 4.88777494, 4.83146014])"
      ]
     },
     "execution_count": 7,
     "metadata": {},
     "output_type": "execute_result"
    }
   ],
   "source": [
    "# average topics per review by genre\n",
    "genre_counts.sum(1)/train.groupby(\"genre\").count()[\"book_id\"].to_numpy()"
   ]
  },
  {
   "cell_type": "code",
   "execution_count": 8,
   "id": "combined-heritage",
   "metadata": {},
   "outputs": [
    {
     "data": {
      "image/png": "[encoded data removed]",
      "text/plain": [
       "<Figure size 432x288 with 1 Axes>"
      ]
     },
     "metadata": {
      "needs_background": "light"
     },
     "output_type": "display_data"
    }
   ],
   "source": [
    "# overall topic distribution\n",
    "topic_props = genre_props.sum(0)/len(train_corpus)\n",
    "fig, ax = plt.subplots()\n",
    "fig.suptitle(\"Topic Distribution\")\n",
    "ax.bar(np.arange(20),topic_props)\n",
    "ax.set_xticks(np.arange(0,20,2))\n",
    "ax.set_ylabel(\"Topic Proportion\")\n",
    "plt.show()"
   ]
  },
  {
   "cell_type": "code",
   "execution_count": 9,
   "id": "genetic-optimization",
   "metadata": {},
   "outputs": [
    {
     "data": {
      "image/png": "[encoded data removed]",
      "text/plain": [
       "<Figure size 1080x288 with 3 Axes>"
      ]
     },
     "metadata": {
      "needs_background": "light"
     },
     "output_type": "display_data"
    }
   ],
   "source": [
    "# per genre topic distribution\n",
    "per_genre_props = np.divide(genre_props,train.groupby(\"genre\").count()[\"book_id\"].to_numpy()[:,np.newaxis])\n",
    "fig, ax = plt.subplots(1,3,sharey=True,figsize=(15,4))\n",
    "fig.suptitle(\"Topic Distribution per Genre\")\n",
    "ax[0].set_xlabel(\"Fantasy\")\n",
    "ax[0].bar(np.arange(20),per_genre_props[0])\n",
    "ax[0].set_xticks(np.arange(0,20,2))\n",
    "ax[0].set_ylabel(\"Topic Proportion\")\n",
    "ax[1].set_xlabel(\"History\")\n",
    "ax[1].bar(np.arange(20),per_genre_props[1])\n",
    "ax[1].set_xticks(np.arange(0,20,2))\n",
    "ax[2].set_xlabel(\"Mystery\")\n",
    "ax[2].bar(np.arange(20),per_genre_props[2])\n",
    "ax[2].set_xticks(np.arange(0,20,2))\n",
    "plt.show()"
   ]
  },
  {
   "cell_type": "code",
   "execution_count": 16,
   "id": "general-chocolate",
   "metadata": {},
   "outputs": [
    {
     "data": {
      "image/png": "[encoded data removed]",
      "text/plain": [
       "<Figure size 1008x360 with 1 Axes>"
      ]
     },
     "metadata": {
      "needs_background": "light"
     },
     "output_type": "display_data"
    }
   ],
   "source": [
    "fig, ax = plt.subplots(figsize=(14,5))\n",
    "width = 0.3\n",
    "fig.suptitle(\"Topic Distribution by Genre\")\n",
    "ax.bar(np.arange(20)-width,per_genre_props[0],width,label=\"fantasy\")\n",
    "ax.bar(np.arange(20),per_genre_props[1],width,label=\"history\")\n",
    "ax.bar(np.arange(20)+width,per_genre_props[2],width,label=\"mystery\")\n",
    "ax.set_xticks(np.arange(20))\n",
    "ax.set_ylabel(\"Topic Proportion\")\n",
    "plt.legend()\n",
    "plt.show()"
   ]
  },
  {
   "cell_type": "code",
   "execution_count": 11,
   "id": "answering-russian",
   "metadata": {},
   "outputs": [
    {
     "data": {
      "image/png": "[encoded data removed]",
      "text/plain": [
       "<Figure size 1080x288 with 3 Axes>"
      ]
     },
     "metadata": {
      "needs_background": "light"
     },
     "output_type": "display_data"
    }
   ],
   "source": [
    "# avg topic proportion when present in a review (so shouldn't sum to 1)\n",
    "genre_avg_props = np.divide(genre_props,genre_counts,out=np.zeros((3,20)),where=genre_counts!=0)\n",
    "fig, ax = plt.subplots(1,3,sharey=True,figsize=(15,4))\n",
    "fig.suptitle(\"Average Topic Proportion In Review\")\n",
    "ax[0].set_xlabel(\"Fantasy\")\n",
    "ax[0].bar(np.arange(20),genre_avg_props[0])\n",
    "ax[0].set_xticks(np.arange(0,20,2))\n",
    "ax[0].set_ylabel(\"Topic Proportion\")\n",
    "ax[1].set_xlabel(\"History\")\n",
    "ax[1].bar(np.arange(20),genre_avg_props[1])\n",
    "ax[1].set_xticks(np.arange(0,20,2))\n",
    "ax[2].set_xlabel(\"Mystery\")\n",
    "ax[2].bar(np.arange(20),genre_avg_props[2])\n",
    "ax[2].set_xticks(np.arange(0,20,2))\n",
    "plt.show()"
   ]
  },
  {
   "cell_type": "code",
   "execution_count": 12,
   "id": "collectible-wildlife",
   "metadata": {},
   "outputs": [
    {
     "data": {
      "image/png": "[encoded data removed]",
      "text/plain": [
       "<Figure size 864x288 with 1 Axes>"
      ]
     },
     "metadata": {
      "needs_background": "light"
     },
     "output_type": "display_data"
    }
   ],
   "source": [
    "# topic distribution across genre\n",
    "topic_genre_props = pd.DataFrame((genre_props/genre_props.sum(0)).T,columns=[\"fantasy\",\"history\",\"mystery\"])\n",
    "fig, ax = plt.subplots(figsize=(12,4))\n",
    "fig.suptitle(\"Topic Distribution Across Genre\")\n",
    "ax.bar(np.arange(20),topic_genre_props[\"fantasy\"],label=\"fantasy\")\n",
    "ax.bar(np.arange(20),topic_genre_props[\"history\"],label=\"history\",bottom=topic_genre_props[\"fantasy\"])\n",
    "ax.bar(np.arange(20),topic_genre_props[\"mystery\"],label=\"mystery\",bottom=topic_genre_props[\"fantasy\"]+topic_genre_props[\"history\"])\n",
    "ax.set_xticks(np.arange(20))\n",
    "ax.set_xlim(None,23)\n",
    "ax.set_ylabel(\"Genre Proportion\")\n",
    "ax.legend()\n",
    "plt.show()"
   ]
  },
  {
   "cell_type": "code",
   "execution_count": 13,
   "id": "julian-addition",
   "metadata": {},
   "outputs": [
    {
     "name": "stdout",
     "output_type": "stream",
     "text": [
      "[(0,\n",
      "  '0.009*\"new\" + 0.008*\"life\" + 0.006*\"year\" + 0.006*\"time\" + 0.006*\"york\" + '\n",
      "  '0.005*\"new_york\" + 0.004*\"find\" + 0.004*\"family\" + 0.004*\"like\" + '\n",
      "  '0.004*\"movie\" + 0.004*\"city\" + 0.004*\"novel\" + 0.003*\"woman\" + 0.003*\"film\" '\n",
      "  '+ 0.003*\"friend\" + 0.003*\"also\" + 0.003*\"art\" + 0.003*\"home\" + 0.003*\"old\" '\n",
      "  '+ 0.003*\"character\"'),\n",
      " (1,\n",
      "  '0.021*\"life\" + 0.014*\"year\" + 0.010*\"child\" + 0.009*\"family\" + '\n",
      "  '0.008*\"woman\" + 0.008*\"people\" + 0.007*\"young\" + 0.007*\"war\" + 0.007*\"girl\" '\n",
      "  '+ 0.006*\"time\" + 0.006*\"old\" + 0.005*\"mother\" + 0.004*\"place\" + '\n",
      "  '0.004*\"home\" + 0.004*\"two\" + 0.004*\"father\" + 0.004*\"back\" + 0.004*\"day\" + '\n",
      "  '0.004*\"many\" + 0.004*\"u\"'),\n",
      " (2,\n",
      "  '0.006*\"world\" + 0.006*\"time\" + 0.005*\"people\" + 0.005*\"would\" + '\n",
      "  '0.004*\"also\" + 0.004*\"even\" + 0.004*\"much\" + 0.004*\"reader\" + 0.004*\"way\" + '\n",
      "  '0.004*\"well\" + 0.003*\"make\" + 0.003*\"war\" + 0.003*\"work\" + 0.003*\"many\" + '\n",
      "  '0.003*\"good\" + 0.003*\"point\" + 0.003*\"human\" + 0.003*\"like\" + 0.003*\"take\" '\n",
      "  '+ 0.003*\"could\"'),\n",
      " (3,\n",
      "  '0.019*\"like\" + 0.014*\"really\" + 0.012*\"would\" + 0.011*\"character\" + '\n",
      "  '0.010*\"time\" + 0.010*\"thing\" + 0.008*\"get\" + 0.008*\"think\" + 0.008*\"much\" + '\n",
      "  '0.008*\"could\" + 0.007*\"first\" + 0.007*\"know\" + 0.007*\"good\" + 0.007*\"felt\" '\n",
      "  '+ 0.007*\"way\" + 0.006*\"even\" + 0.006*\"end\" + 0.006*\"feel\" + 0.006*\"reading\" '\n",
      "  '+ 0.006*\"little\"'),\n",
      " (4,\n",
      "  '0.011*\"god\" + 0.010*\"sookie\" + 0.008*\"eric\" + 0.008*\"series\" + '\n",
      "  '0.008*\"stephanie\" + 0.007*\"get\" + 0.007*\"character\" + 0.007*\"christie\" + '\n",
      "  '0.006*\"gaiman\" + 0.006*\"scarlet\" + 0.006*\"winter\" + 0.006*\"cinder\" + '\n",
      "  '0.006*\"agatha\" + 0.006*\"holly\" + 0.005*\"harris\" + 0.005*\"nathan\" + '\n",
      "  '0.005*\"kai\" + 0.005*\"riley\" + 0.005*\"charlie\" + 0.004*\"chris\"'),\n",
      " (5,\n",
      "  '0.010*\"life\" + 0.007*\"find\" + 0.005*\"claire\" + 0.005*\"death\" + 0.005*\"time\" '\n",
      "  '+ 0.005*\"family\" + 0.004*\"new\" + 0.004*\"way\" + 0.004*\"back\" + 0.004*\"take\" '\n",
      "  '+ 0.004*\"year\" + 0.004*\"father\" + 0.004*\"get\" + 0.004*\"make\" + '\n",
      "  '0.004*\"jamie\" + 0.004*\"day\" + 0.003*\"ben\" + 0.003*\"dead\" + 0.003*\"joe\" + '\n",
      "  '0.003*\"go\"'),\n",
      " (6,\n",
      "  '0.022*\"love\" + 0.020*\"series\" + 0.017*\"loved\" + 0.017*\"ca\" + 0.014*\"wait\" + '\n",
      "  '0.013*\"next\" + 0.012*\"reading\" + 0.011*\"could\" + 0.009*\"great\" + '\n",
      "  '0.009*\"like\" + 0.009*\"amazing\" + 0.009*\"ca_wait\" + 0.008*\"know\" + '\n",
      "  '0.008*\"get\" + 0.008*\"really\" + 0.008*\"see\" + 0.007*\"put\" + 0.007*\"much\" + '\n",
      "  '0.007*\"first\" + 0.007*\"want\"'),\n",
      " (7,\n",
      "  '0.036*\"series\" + 0.023*\"character\" + 0.012*\"first\" + 0.011*\"good\" + '\n",
      "  '0.011*\"like\" + 0.008*\"reading\" + 0.008*\"time\" + 0.008*\"novel\" + '\n",
      "  '0.007*\"little\" + 0.007*\"bit\" + 0.007*\"fun\" + 0.007*\"much\" + 0.006*\"plot\" + '\n",
      "  '0.006*\"enjoyed\" + 0.006*\"really\" + 0.005*\"still\" + 0.005*\"great\" + '\n",
      "  '0.005*\"mystery\" + 0.005*\"lot\" + 0.005*\"well\"'),\n",
      " (8,\n",
      "  '0.009*\"would\" + 0.008*\"zombie\" + 0.006*\"like\" + 0.006*\"also\" + '\n",
      "  '0.005*\"christian\" + 0.005*\"peter\" + 0.005*\"beast\" + 0.004*\"time\" + '\n",
      "  '0.004*\"version\" + 0.004*\"author\" + 0.004*\"people\" + 0.004*\"mermaid\" + '\n",
      "  '0.003*\"beauty\" + 0.003*\"first\" + 0.003*\"life\" + 0.003*\"view\" + '\n",
      "  '0.003*\"thing\" + 0.003*\"u\" + 0.003*\"never\" + 0.003*\"still\"'),\n",
      " (9,\n",
      "  '0.016*\"review\" + 0.013*\"character\" + 0.012*\"novel\" + 0.010*\"author\" + '\n",
      "  '0.010*\"honest\" + 0.009*\"reader\" + 0.009*\"copy\" + 0.009*\"received\" + '\n",
      "  '0.009*\"romance\" + 0.008*\"historical\" + 0.008*\"exchange\" + 0.005*\"vampire\" + '\n",
      "  '0.005*\"fiction\" + 0.005*\"time\" + 0.005*\"life\" + 0.005*\"page\" + '\n",
      "  '0.004*\"netgalley\" + 0.004*\"honest_review\" + 0.004*\"recommend\" + '\n",
      "  '0.004*\"well\"'),\n",
      " (10,\n",
      "  '0.022*\"series\" + 0.016*\"kate\" + 0.009*\"cat\" + 0.008*\"alex\" + 0.008*\"ash\" + '\n",
      "  '0.007*\"jane\" + 0.006*\"urban\" + 0.006*\"iron\" + 0.005*\"brown\" + '\n",
      "  '0.005*\"dragon\" + 0.005*\"dan\" + 0.005*\"mercy\" + 0.005*\"urban_fantasy\" + '\n",
      "  '0.005*\"fae\" + 0.005*\"fantasy\" + 0.005*\"first\" + 0.005*\"cliff\" + '\n",
      "  '0.004*\"find\" + 0.004*\"julie\" + 0.004*\"new\"'),\n",
      " (11,\n",
      "  '0.018*\"history\" + 0.009*\"war\" + 0.008*\"time\" + 0.008*\"historical\" + '\n",
      "  '0.007*\"life\" + 0.007*\"novel\" + 0.006*\"american\" + 0.005*\"many\" + '\n",
      "  '0.005*\"period\" + 0.005*\"interesting\" + 0.005*\"author\" + 0.005*\"also\" + '\n",
      "  '0.005*\"great\" + 0.005*\"well\" + 0.005*\"would\" + 0.004*\"woman\" + 0.004*\"work\" '\n",
      "  '+ 0.004*\"fiction\" + 0.003*\"people\" + 0.003*\"century\"'),\n",
      " (12,\n",
      "  '0.017*\"love\" + 0.008*\"get\" + 0.008*\"like\" + 0.007*\"want\" + 0.006*\"even\" + '\n",
      "  '0.006*\"romance\" + 0.005*\"thing\" + 0.005*\"know\" + 0.005*\"friend\" + '\n",
      "  '0.004*\"series\" + 0.004*\"two\" + 0.004*\"would\" + 0.004*\"see\" + 0.004*\"make\" + '\n",
      "  '0.004*\"girl\" + 0.004*\"way\" + 0.004*\"go\" + 0.004*\"find\" + 0.004*\"time\" + '\n",
      "  '0.004*\"also\"'),\n",
      " (13,\n",
      "  '0.020*\"jack\" + 0.013*\"edward\" + 0.011*\"child\" + 0.011*\"jacob\" + '\n",
      "  '0.008*\"bella\" + 0.007*\"twilight\" + 0.006*\"bond\" + 0.006*\"ellie\" + '\n",
      "  '0.006*\"jonathan\" + 0.006*\"lee\" + 0.006*\"margaret\" + 0.005*\"reacher\" + '\n",
      "  '0.005*\"would\" + 0.005*\"like\" + 0.004*\"time\" + 0.004*\"mitchell\" + '\n",
      "  '0.004*\"meyer\" + 0.004*\"tom\" + 0.004*\"sara\" + 0.004*\"andy\"'),\n",
      " (14,\n",
      "  '0.034*\"character\" + 0.020*\"world\" + 0.010*\"fantasy\" + 0.009*\"love\" + '\n",
      "  '0.009*\"like\" + 0.008*\"magic\" + 0.007*\"much\" + 0.007*\"plot\" + 0.006*\"really\" '\n",
      "  '+ 0.006*\"also\" + 0.005*\"main\" + 0.005*\"novel\" + 0.005*\"way\" + 0.004*\"first\" '\n",
      "  '+ 0.004*\"well\" + 0.004*\"main_character\" + 0.004*\"make\" + 0.004*\"strong\" + '\n",
      "  '0.004*\"thing\" + 0.004*\"romance\"'),\n",
      " (15,\n",
      "  '0.008*\"life\" + 0.007*\"find\" + 0.006*\"demon\" + 0.006*\"love\" + 0.006*\"know\" + '\n",
      "  '0.005*\"vampire\" + 0.005*\"angel\" + 0.005*\"get\" + 0.005*\"dark\" + 0.005*\"want\" '\n",
      "  '+ 0.004*\"make\" + 0.004*\"come\" + 0.004*\"see\" + 0.004*\"also\" + 0.004*\"take\" + '\n",
      "  '0.004*\"soul\" + 0.004*\"friend\" + 0.004*\"power\" + 0.004*\"even\" + '\n",
      "  '0.004*\"series\"'),\n",
      " (16,\n",
      "  '0.036*\"really\" + 0.022*\"character\" + 0.018*\"enjoyed\" + 0.015*\"liked\" + '\n",
      "  '0.015*\"well\" + 0.013*\"star\" + 0.011*\"like\" + 0.011*\"good\" + '\n",
      "  '0.009*\"really_enjoyed\" + 0.009*\"great\" + 0.009*\"writing\" + 0.008*\"written\" '\n",
      "  '+ 0.008*\"lot\" + 0.008*\"loved\" + 0.008*\"reading\" + 0.008*\"interesting\" + '\n",
      "  '0.007*\"would\" + 0.007*\"author\" + 0.007*\"love\" + 0.007*\"plot\"'),\n",
      " (17,\n",
      "  '0.019*\"tale\" + 0.010*\"fairy\" + 0.009*\"author\" + 0.009*\"time\" + '\n",
      "  '0.007*\"reading\" + 0.007*\"life\" + 0.006*\"highly\" + 0.006*\"written\" + '\n",
      "  '0.006*\"fairy_tale\" + 0.005*\"well\" + 0.005*\"way\" + 0.004*\"writing\" + '\n",
      "  '0.004*\"recommend\" + 0.004*\"enjoyed\" + 0.004*\"great\" + 0.004*\"character\" + '\n",
      "  '0.004*\"thoroughly\" + 0.004*\"novel\" + 0.004*\"fiction\" + 0.004*\"look\"'),\n",
      " (18,\n",
      "  '0.013*\"rose\" + 0.009*\"life\" + 0.009*\"music\" + 0.007*\"mother\" + '\n",
      "  '0.007*\"family\" + 0.005*\"amy\" + 0.005*\"father\" + 0.005*\"smith\" + '\n",
      "  '0.004*\"house\" + 0.004*\"child\" + 0.004*\"laura\" + 0.004*\"chloe\" + '\n",
      "  '0.004*\"like\" + 0.004*\"time\" + 0.004*\"woman\" + 0.004*\"people\" + 0.003*\"son\" '\n",
      "  '+ 0.003*\"find\" + 0.003*\"way\" + 0.003*\"derek\"'),\n",
      " (19,\n",
      "  '0.014*\"mystery\" + 0.010*\"murder\" + 0.007*\"find\" + 0.005*\"case\" + '\n",
      "  '0.005*\"killer\" + 0.005*\"novel\" + 0.005*\"detective\" + 0.005*\"crime\" + '\n",
      "  '0.005*\"town\" + 0.005*\"character\" + 0.005*\"life\" + 0.005*\"family\" + '\n",
      "  '0.004*\"police\" + 0.004*\"friend\" + 0.004*\"get\" + 0.004*\"first\" + '\n",
      "  '0.004*\"series\" + 0.004*\"dead\" + 0.004*\"woman\" + 0.004*\"also\"')]\n"
     ]
    }
   ],
   "source": [
    "pprint(lda.print_topics(num_words=20))"
   ]
  },
  {
   "cell_type": "code",
   "execution_count": 14,
   "id": "processed-hawaiian",
   "metadata": {},
   "outputs": [
    {
     "name": "stdout",
     "output_type": "stream",
     "text": [
      "\n",
      "TOPIC  0\n",
      "(77159, 0.9633966)\n",
      "Classic. This story has the most descriptive and riviting scenes, you can practically hear the trees sway in the wind, see the kids creeping through the catacombs, and smell the fall crisp air. Even years later I can still remember these scenes. \n",
      " A simple story of a bunch of kids looking for their lost friend is told in such a creative and page-turning manner!\n",
      "(13774, 0.9550165)\n",
      "I will bypass writing a review in order to make an even more important announcement: this entire book was read in the bath. Six months of Sunday night baths. Six hundred pages worth of warm baths. Warm, warm baths. In water.\n",
      "(65854, 0.9273635)\n",
      "This is the follow-up memoir to \"When I was Puerto Rican\". This memoir covers Santiago's teenaged years and her experiences at the performing arts high school and trying to discover who she is and what she wants to do with her life.\n",
      "\n",
      "TOPIC  1\n",
      "(11788, 0.97702444)\n",
      "The book Dairy of Anne Frank is about a girl named Anne who lived during World War 2. Anne was Jewish and went into hiding.Anne was 13 years old when she went into hidding. Anne and her family were joined by the Van Pels and the son Peter and a man named Mr.Dussel. They stayed into hiding for 3 years. During there time in hiding Peter and Anne started to like each other. One day there were caught hiding and sent to concentration camps. Anne died three days before the war ended and died when she was 15.\n",
      "(1922, 0.9745212)\n",
      "Fantastic read. \n",
      " From back cover: \n",
      " \"Somewhere around the age of seven, Sylvia Fraser created a \"twin\" who shared her body while living a life apart from hers, with separate memories and experiences. For forty years, the existence of that twin and of the secret life she led while growing up in her father's house was unknown to the author. How Sylvia Fraser broke through the amnesia to discover and embrace the tortured self she left behind is the story of this astonishing memoir.\"\n",
      "(4086, 0.9727557)\n",
      "Like Anne Frank, many Dutch Jewish Children were forced into hiding from the Nazis during WWII. Prins chronicles the lives of 14 who managed to survive, but at significant costs: loss of a normal childhood, separation & death of family members, and risk of deportation equating to death. The varying short story accounts provide a clearer picture of the similarities and differences of the lives of young children that were irrevocably changed.\n",
      "\n",
      "TOPIC  2\n",
      "(71870, 0.98134655)\n",
      "There is some good analysis of terrorism and how non state actors interact with state actors. Unfortunately his analysis of Clausewitzian warfare is fundamentally flawed. \n",
      " He seems to think that the Clausewitzian trinity is a state based interaction between the people, the army and the government. If he had read a decent translation of 'On War' he would have found that it is hatred and enmity, mostly associated with the people, chance and probability, mostly associated with the army and sublimation to rational policy/politics mostly associated with the government. \n",
      " This trinity can also be applied to non state actors just as much as it can to the state based system that has been, for the most part, the main paradigm since the treaty of Westphalia. \n",
      " Overall a good but flawed analysis of modern conflict.\n",
      "(38345, 0.9711547)\n",
      "This is a dual account of the moon race, both from the eyes of David Scott, Apollo 15 commander, and Alexei Leonov, the first man to walk in space. Up until the collapse of the Soviet Union, little was known of the failures of the Soviet space program, and this book gives us a rare insight into that and an insight into the humanity of both astronauts. Leonov may also have been the first artist to go into space: on one flight he brought crayons with him.\n",
      "(59142, 0.9639773)\n",
      "This outstanding book is eloquent and outstanding journalism. Packer tells the stories (about real-life people) without commentary. And indeed commentary is not necessary. I would rank this up with \"Let Us Now Praise Famous Men\" by James Agee as a work of social anthropology/realism. \n",
      " April, 2014: Somebody asked me to select just ONE book that I had read in 2013 to recommend and this one immediately came to mind. After further thought, I am keeping it there.\n",
      "\n",
      "TOPIC  3\n",
      "(29607, 0.988258)\n",
      "Too boring, and overly used big words and dragged on sentences. Honestly, teenagers don't talk like that. I am in no way trying to diss the author, he is an amazing storyteller. But, I found the pace of this book way too slow. And it seemed like every single sentence used a big word for no apparent reason whatsoever--giving me a massive headache. Sigh. \n",
      " Honestly,it started to feel like I was reading a boring project report from work, shaking my head at the thought. \n",
      " So with that being said, I stopped reading after the second chapter. There was nothing exciting, nothing interesting, and nothing spooky: damn you cover! \n",
      " I did however pass the book over to my son, who's fourteen. He said that he would give it a shot, but for me, NOPE! \n",
      " Very disappointing as I really wanted to like it, but sadly I couldn't continue to turn the pages. It just wasn't good enough for me. Hopefully the movie is better--which I doubt I'll see after this.\n",
      "(64171, 0.98561275)\n",
      "What an odd little book. I can't quite decide if I liked it or not. I admire it for its unusualness, but at the same time I disliked the typecasting it used. It's not a long book, which is good I think, because I can't see myself enjoying any more of it than there was. The idea is quite complex, but comes across as overly simplistic somehow. It's a book of contradictions. \n",
      " The thing I least liked about it was that all the time I was reading, I felt like there was someone in the background saying 'and the moral of this story is...' for each chapter. I don't much enjoy books that are obvious in their 'this will teach teens to improve themselves' act. Partly because it's pointless. The type of teens you want to teach a lesson, are not the type who will learn that lesson from reading this book. Instead you should write for people who will enjoy it. And maybe that's what the author has done, and they're just coming across as a bit preachy by accident. Either way, it made the book less enjoyable for me.\n",
      "(59303, 0.98459506)\n",
      "I've been having a hard time coming up with the review for this book... Overall, because it's not very memorable. It was an ok book and I mostly enjoyed reading it but it just doesn't stay with you. Most books, when you think back on them, something stands out: you remember a scene, an emotion, a character... something. Well with this book I keep coming up blank. It takes an effort and too much time to even remember the storyline. \n",
      " Well the story is told from many POVs and although it helped me understand the characters better and the story from different perspectives, it was mostly confusing. There was so much back and forth that at the beginning of most chapters I had to sit and jog my memory to remember who the narrating character was. \n",
      " The romance was pretty nice and the story was mostly believable. It was interesting to say the least. Not a terrible book to waste your time on.\n",
      "\n",
      "TOPIC  4\n",
      "(7284, 0.90243435)\n",
      "A cross-over with \"Warriors' Cross\"? The irony is great...mayhaps nice throw-down between Juilian & Ty before the story really pops off? \n",
      " Fingers crossed here. \n",
      " A.\n",
      "(44470, 0.7934601)\n",
      "Stephanie Plum, inept bounty hunter. Very funny reads. They are kinda like Pringles... You can't just read one.\n",
      "(35377, 0.73804396)\n",
      "I love this series. I like how it ties into the Sookie Stackhouse and the Harper Connely series. I hope Mrs. Harris writes more of this story.\n",
      "\n",
      "TOPIC  5\n",
      "(64364, 0.9032013)\n",
      "Read this for my older sister's report. Can you believe it? She's in College while im still in high school.\n",
      "(32467, 0.8639925)\n",
      "The Light Between Oceans takes mainly takes place on Janus Rock, a remote lighthouse island located between the Indian and the Southern oceans. Tom Sherbourne is the lighthouse keeper and doesn't mind the solitude of the remote location where supply boats only come 4 times a year. On a shore leave, Tom meets and falls in love with Isabel. The two are soon married and Isabel joins Tom on Janus Rock. After the devastation of three miscarriages, a small boat washes ashore one evening. The boat contains a dead man and a crying, very much alive baby. Isabel convinces Tom to not report the dead body and to raise the baby as their own. This story was a journey of love...love for a spouse and for a child. Very good!\n",
      "(11550, 0.8298627)\n",
      "Horns, Joe Hill's second novel had me from the start! It was a horror/mystery. Iggy Perish wakes up one morning after a night of heavy drinking to look in the mirror and find that he has grown horns. Throughout the next week or so he finds that the horns give him some powers. He is able to find out some extra details about his girlfriends rape & murder. \n",
      " On a side note\n",
      "\n",
      "TOPIC  6\n",
      "(5404, 0.9779954)\n",
      "Of all the books I have read this will be my first review. I am with the other person that stated nothing could top twilight. Boy was I wrong. This book or well the whole series was wonderful. I went in to this book with very low expectations. I have never heard of the book or the author. With that how great could this book be? Great enough to go to the top of my favorite list. Right to the top. It it truly a storyland that I loved being in. I got lost in the book and couldn't get enough of it. Through the twist and turns, highs and lows it was simply AMAZING. I highly recommend this book. Thanks\n",
      "(71180, 0.97757775)\n",
      "I think this one is my favorite so far in the series. It's packed full of action, intrigue and a roller coaster of events that will leave you guessing. I'm pretty good at guessing what's going to happen and who the bad guy is, but with this series, I changed my mind over and over and never got it right. It's well-written, with the world-building amazing me at every turn. I love this series! This one ends on one helluva cliff-hanger, so be warned- you're going to buy book 4 immediately! There's no way around it. You'll HAVE to know what's going to happen next. Amazing book!\n",
      "(24662, 0.97712624)\n",
      "Perfect ending \n",
      " I loved this series so much, but I was so happy that it told the stories it was meant to tell. It captured everyone that had a story, and with every book we feel in love with Noelle and Drake just a little more. This was a perfect ending. \n",
      " This book had a lot more suspense and drama than the others, but there synopsis was the same... But it had an awesome beginning and a fabulous ending- with so much in the middle that made it easy to finish in one sitting. \n",
      " I can't say anything about the good parts as it gives the entire story away, and we have all been waiting for this series to tell the stories in a fabulous fashion, so you won't get any spoilers from me. I implore you to read this book.\n",
      "\n",
      "TOPIC  7\n",
      "(38845, 0.9798892)\n",
      "This book was, at times, difficult to get through due to some inappropriate content. The Dark Tower series has a lot of potential and I will continue reading it. The Stephen King writing quality is appealing to me and I find his writing to be very readable. I really like Stephen King books, but this novel is not my favorite of his work. If you are enthusiastic about Stephen King, then you should probably give the Dark Tower series a try. I have read the first four Dark Tower books and my favorite is The Drawing of the Three. Thanks Stephen King!\n",
      "(6269, 0.9796686)\n",
      "Blake Crouch does it again! He returns to the place that he set out beautifully in his novel PINES. The action speeds along like it did with that novel, and leads to an explosive conclusion. If I had one complaint it might be that when Crouch wrote this one, it seems he knew it was already going to be a TV series and a whole series of novels. Thus, it has a feel like he knows he will just continue the story. Does that make sense? It has \"middle novel\" feel to it. That does nothing to make me not want to read the next one (due out in 2014) and I will definitely tune into the TV series when that finally airs. Crouch remains one of the best thriller/horror writers on the shelves these days.\n",
      "(18552, 0.97611684)\n",
      "Fans of the Inspector Gamache (Three Pines) series will find this novella worth reading just for completeness sake. It's written at a slightly different reading level than the novels, so the prose style feels unfamiliar at first (short sentences, simpler language), but the characters and setting we've come to love are the same. Even in this shorter format, Penny delivers a decent plot and a mystery with enough surprises to be satisfying. \\ \n",
      " And if you love this, give the novels a shot :)\n",
      "\n",
      "TOPIC  8\n",
      "(9838, 0.9441579)\n",
      "An interesting read, particularly in certain, already anachronistic, aspects and points of view. The text asserts many points, but is also good in illustrating how quickly this subject changes constantly, at least in part.\n",
      "(40874, 0.92695826)\n",
      "I wish there had been more about his son and less about Peter the Wild Boy (and why was there no mention that this kid was the person who Peter Pan was based on?), but overall a good read.\n",
      "(1497, 0.91625285)\n",
      "I found this book to be a really interesting read. As the title suggests, it decribes how gender roles and assumptions affected the Puritans' views of sin, witchcraft, and relationships with the devil. While the focus was on women, the author also details how masculine norms informed these issues. Another intriguing topic was how the author traced the evolution of Satan, from an active, physical antagonist (as the Puritans believed) to a passive, distant punisher (more akin to modern religious beliefs). Overall, it was a quick and informative book. Recommended for those who want to learn more about the roles of gender and Satan in the Salem Witch Trials and Puritan religion.\n",
      "\n",
      "TOPIC  9\n",
      "(53143, 0.9775743)\n",
      "Friends and Enemies hooked me from the first word I read. Terri Wangard has written a story with unforgettable characters that really impress for a debut novel. When I read historical fiction I look for works that have rich historical detail and it's obvious this author has done her research. I felt as if I had a front row seat to the love,grief,faith and hope. This is an author that I look forward to reading her future works. \n",
      " I received a complimentary copy of this book from the Publisher in exchange for my honest review.\n",
      "(52332, 0.9667553)\n",
      "I had the opportunity to read an ARC of THE MAPMAKER AND THE GHOST by Sarvenaz Tash and I highly recommend this clever adventure! Middle-grade boys and girls, parents, teachers and librarians will love the colorful mix of characters, especially our heroine, Goldenrod, whose love of exploring leads her into all sorts of danger. Readers will be inspired to grab a compass and set off on their own quest after finishing this wonderful debut.\n",
      "(81375, 0.96365356)\n",
      "This is a good, solid regency romance novella, featuring Lydia and Dr. Grantham. It is 1.5 in the Brother's sinister series, I believe. \n",
      " The author's stories are well-written with chatacters that hold my interest. Their one failing, in my opinion is that they are too dark for the genre. They are not bad stories, but do contain a few improbabilities and focus more on the negatives of the era than is usual for the regency romance. \n",
      " Not bad, but dark.\n",
      "\n",
      "TOPIC  10\n",
      "(9596, 0.9711479)\n",
      "Meghan, Ash and Puck continue their adventures in the second book of the Iron Fey series. \n",
      " This book takes up almost directly after the end of the last one. None of the Winter or Summer fey believe Meghan and Ash's stories of the Iron Fey but that doesn't stop them from being real, and from being a threat. Now Meghan must try to steal back an important artifact in order to stop a war between their two courts.\n",
      "(401, 0.9381125)\n",
      "I've always been a Nash fan, but...after reading this short....I change my mind. I'm hoping Kaylee opens her eyes and sees who would be a better choice before this series is over.\n",
      "(30692, 0.92670983)\n",
      "This installment of the Saxons Series was entertaining. The books seem to be getting more and more formulaic, but it happens to be a formula I enjoy. \n",
      " Swords + blood + anti-hero barbarian = quality entertainment\n",
      "\n",
      "TOPIC  11\n",
      "(2144, 0.98558253)\n",
      "A very thorough, well annotated biography of the entire life of Jane Austen, it includes a family tree, an Appendix on her final illness, Notes, photographs and illustrations (there is no photograph of Jane from life now known but includes her sister's drawing of her, family members and locations), a Bibliography and - best of all - an illustrated map showing Steventon and the neighborhood houses Jane knew and visited. \n",
      " The author includes detailed, careful research and explains the reasoning behind her conclusions. I did not always agree with some of them - human behavior can be over-analyzed at times - but it was a very faithful attempt and interesting to read. \n",
      " Highly recommended to anyone interested in learning more of Jane as a person, her history, her immediate family and those closest to her. \n",
      " This is not a source for information on her writing process, but that was not the author's intent. Very well done!\n",
      "(3954, 0.9833109)\n",
      "If you're not a specialist in Romanian diplomatic history, I would leave this on the shelf, as it is steep in the minutiae of Romanian, French, and Russian diplomatic history. The narrative covers the roughly two years before and leading up to the founding of the United Principalities of Wallachia and Moldovia and the subsequent election of Iozn Alexandru Cuza, pre-Romania's first Prince and advocate of a united, or Greater, Romania. The exchanged related here are primarily between the Russian diplomats posted in Romania at the time, although there is also a great deal of information pertaining the historical situation in the region that would eventually become Romania. It's an interesting read, but only of the reader is familiar with first, a broader sense of Balkan, Hapsburg, and Ottoman history, and second, a sound foundation in Romanian history. If the reader does not possess these prequisites, he will find this short book utterly boring.\n",
      "(69062, 0.96766806)\n",
      "Essays as a memoir--definitely not a memoir. Cisneros revisits and refines many many essays and speeches from her illustrious career; she illuminates many many facets of her life that I had not previously known about her. I love her commitment to all art and to deepening her commitment to herself and her writing, and that is served well by her revision of essays and compilation into one text. It's wonky that way, though, and the many long footnotes. There are great elements for excerpting with students.\n",
      "\n",
      "TOPIC  12\n",
      "(6011, 0.9764559)\n",
      "Ahh...part 3 we meet Jud. Yum! She gets to shift into her wolf...her parents never allowed it. Its a lot for her to take but she has Blake help her through it. She's had to handle a lot in her life. I wouldn't say she's messed up but kinda. After she shifts back when Blake and Jud chased her she gets to see if her wolf likes Jud. Blake is becoming very attached to Ashley. Wants her to choose him as a mate, but he doesnt tell her this. Her wolf isn't ready to choose anyone yet. Which he understands this and says nothing. So, she has some fun with Blake and Jud.\n",
      "(60539, 0.967117)\n",
      "That's a charming book where Cat discovers he is more or less on his own even if he tries to support his talented sister. But he can't help getting in trouble. I wish I read it as a child, but it's a book that's magical for grown-ups. \n",
      " So Cat and his sister Gwendolen are orphans at the beginning of the book but Gwendolen manages to get them cared by the Chrestomanci a powerful enchanter. Except the two orphans can't get along with him and his family, especially because of Gwendolen's behavior.\n",
      "(50600, 0.9670862)\n",
      "Not horrible, but not great. \n",
      " Hero saves heroine from near rape by a gang including his bungling wicked step brothers. \n",
      " Heroine seeks dying mother. \n",
      " Finds mother in very sad unsavory circumstances. \n",
      " Hero lusts after her. \n",
      " Love and marriage and happily ever after. \n",
      " Mildly entertaining, but the good part...it wasn't very long! \n",
      " I just deleted it.\n",
      "\n",
      "TOPIC  13\n",
      "(4266, 0.8576496)\n",
      "I wavered between 4 and 5 stars and decided on five because this is a book I could recommend to everyone. This isn't a fictitious \"what-if\" last lecture, but is based on the real \"Last Lecture\" Randy Paunch gave at Carnegie Mellon after receiving the diagnosis of terminal cancer. His sub-theme was achieving your childhood goals. Full review: The Last Lecture Book Review\n",
      "(3032, 0.8321325)\n",
      "One of the classic spy novels from one of the classic spy novelists, 'Tinker Tailor' is definitely a slow-burning spy thriller that is more realitic Cold War espionage as opposed to James Bond espionage. Very detailed, but, again, slow.\n",
      "(79506, 0.746587)\n",
      "I love jack Reacher, the story character created by Lee Child. The worst thing to be said is that he chose Tom Cruise to play this magnificent persona, sad day for sure. But, the books beat all.\n",
      "\n",
      "TOPIC  14\n",
      "(3584, 0.97937185)\n",
      "The author's concept of Traveler's being a type of magic user who can access and wield magical abilities that originate in their home territory is interesting and unique in application. For that alone, I enjoyed the book. \n",
      " While the protagonist learns and evolves as the story unfolds, I believe that there is some untapped characters development that would make the book better, for him and for the other main characters. By the end of the book, it becomes apparent that there is a larger, overarching plot, with just a hint of what is to come. Despite the story climax lacking the satisfaction I was expecting, there is just enough of a carrot dangling that I want to read the next book and see where the series goes.\n",
      "(25388, 0.97645026)\n",
      "So as not to ruin book 1 for anyone who hasn't read it, I'll keep my synopsis simple. Grace and Sam are dealing with a few changes. Meanwhile, Grace's friend, Isabel, meets a new wolf, Cole. \n",
      " I liked the first one much better. I didn't much like the main characters. Grace and Sam were whiny/angsty/woe-is-me teenagers, and neither Isabel nor Cole were the least bit likeable. The end was pretty good, though. I will likely finish the trilogy, but I wasn't real excited about this one, so I will rate it o.k.\n",
      "(17742, 0.96967566)\n",
      "A little slow-moving at first, with quite a bit of world building, but it picks up the pace and delivers a solid tale of magic and action. The characters are intriguing and although the villains do suffer from the one dimensional evil bad guy syndrome, it does offer enough depth in characters like Holland and Kell to keep the book interesting.\n",
      "\n",
      "TOPIC  15\n",
      "(67842, 0.9533153)\n",
      "\"There are two kinds of guilt. The kind that's a burden and the kind that gives you purpose. Let your guilt be your fuel. Let it remind you of who you want to be. Draw a line in your mind. Never cross it again. You have a soul. It's damaged but it's there. Don't let them take it from you.\" \n",
      " Damn.\n",
      "(55751, 0.94182694)\n",
      "I love Rylie, Abel, and Seth's stories as werewolves and hunters. Gray Mountain is calling all the werewolves together for who knows what, only they know that the calling is in their dreams. Meanwhile the hunters are converging to take out the werewolves as they gather up.\n",
      "(66406, 0.92267644)\n",
      "Caught in the middle, caught in a lie, caught in life. Everyone loses but everyone gains. Makes you think. A story to get lost in.\n",
      "\n",
      "TOPIC  16\n",
      "(34995, 0.9697659)\n",
      "I liked as much as I like any short story. I am really not a fan of short stories. The author has to move the story along at a fast pace. Life is not really compacted into a short story so the story becomes a fantasy. I do like the H/H and hope to like them better in future books. Their characters are not really developed at this point. Recommend if you like futuristic paranormal; otherwise, you can skip this series.\n",
      "(56940, 0.9680907)\n",
      "4.5 stars. I really enjoyed this read! She kept me turning the pages. The descriptions of Winloch had me feeling as though I was there. I really liked the ending, and it wasn't one of those that left me with the thought \"that was the only way she could have done it\" (like I felt with Gone Girl). \n",
      " Definitely a great summer read! Don't go by the one star reviews. Take a chance and pick up a copy of this one!\n",
      "(43287, 0.9652151)\n",
      "Good debut novel by an author who has done mostly comic book and graphic novel stuff up to this point (all of which are very good). \n",
      " I didn't love this novel, but I enjoyed it. There were definitely some times where I was really into it and others not as much, but that's most books really. \n",
      " Hoping this author keeps up the good work. I'd be interested in seeing what he puts out there next\n",
      "\n",
      "TOPIC  17\n",
      "(1585, 0.95349467)\n",
      "Positively beautifully written - a glimpse into the world of women we know little about. Unique & imaginitive - I thoroughly enjoyed it for its rich texture as well as the historical accounts of women during the time of Christ. Highly recommended!\n",
      "(6514, 0.95345706)\n",
      "The man who created Oz writes this brilliant and fantastical biography of Santa Claus, mixing fairy tale elements with bits from various Santa legends. \n",
      " Amazing book. \n",
      " Was the first non-Oz book of Baum's I ever read. Great, imaginative stuff.\n",
      "(7325, 0.9471816)\n",
      "Really difficult to review a collection of old fairy tales, but I largely enjoyed it. Most notable are the earliest recorded versions of Cinderella and Sleeping Beauty, among others.\n",
      "\n",
      "TOPIC  18\n",
      "(4018, 0.9546031)\n",
      "A light, puffy souffle of a book that describes various imaginary animals, like Leviathan, or the chupacabra, or Ouroboros, and considers the question of whether or not they would be considered kosher. The dialogue between Ann VanderMeer and Evil Monkey is hilarious, and can be savored slowly, one imaginary animal at a time or gulped down in one fell swoop.\n",
      "(3581, 0.9464921)\n",
      "This story will have a powerful impact on everyone's faith. There was a lot of torture in the story that might not be suitable for some readers but the courage of the people from the Underground Church was beautiful. They're ability to love their tormentors and pray for them after being inhumanly abused shows their love of Christ.\n",
      "(3293, 0.8852447)\n",
      "This is a lovely Highlander romance. \n",
      " Rosalia is being paraded around King James'court because her parents need to find her a husband. They are very short of money , so they feel there is no choice but to take whoever offers for her. Rosalia is humiliated when she realizes that someone overheard her mother bullying her. \n",
      " Laird Cairan MacGregor is at court to be told by the King to stop the endless squabbles with the Campbells. He is worrying all the time he is there incase his youngest brother is misbehaving by drinking and wenching instead of looking after the clan. \n",
      " Rosalia's parents have contracted a marriage with someone that she doesn't want ,and when she tries to refuse her mother beats her brutally. So Rosalia runs away. Cairan and his men find her collapsed on their way home, and agree to help her. \n",
      " The characters in this are all good fun ,even the black sheep of the family. There is trouble with the Campbells and a vengeful woman from Cairan's clan. \n",
      " I think there are some follow up stories to come, That I will be reading.\n",
      "\n",
      "TOPIC  19\n",
      "(63166, 0.9763434)\n",
      "An engaging mystery with a surprise romantic twist. After a bank robbery/murder, an American writer goes missing. Detective Thain is convinced the murder has nothing to do with the bank robbery, but is connected to the missing writer. He's convinced the murder was an assassination tied to a mysterious figure he's been chasing for years, causing his police peers to question his sanity. Detective Thain has this one case to prove he's not chasing ghosts and to save the writer. During his investigation, wounds are opened, and hearts are healed as connections are made that are as surprising as the who-done-it.\n",
      "(20279, 0.9687731)\n",
      "Small town NC has Donut hearts owned by Suzanne Hart. She has a tendency to find dead bodies. This time it involves her mother. Dorothy confronts the mayor and decides to run against him. Unfortunately he is found dead in a property owned by Dorothy Hart. Being she is dating the chief of police there are no benefits. The chief calls in Suzanne ' s boyfriend Jake. Suzanne has several suspects to investigate one being the chief's ex wife. She is a force to be dealt with. In addition, a girlfriend and businessmen who had illegal dealings with the mayor. Suzanne and her friend Grace and George tackle the investigation. Meanwhile there is still the mayor race going on. In the end the culprit is identified and a new mayor is elected.\n",
      "(56949, 0.9669536)\n",
      "I discovered this author by accident, scrolling through the Audible list of new releases. LOVE her style. Her protagonist, Meg Turner, is a building contractor who restores old buildings. She's also an amateur sleuth, trying to find the murderers of the dead body that shows up on her job site. And her abilities as a ghost whisperer can work for or against her. Delightful read!\n"
     ]
    }
   ],
   "source": [
    "# representative reviews for each topic\n",
    "for i in range(20):\n",
    "    print(\"\\nTOPIC \",i)\n",
    "    topic_doc_dict[i].sort(key = lambda x: x[1], reverse=True)\n",
    "    for j in range(3):\n",
    "        if len(topic_doc_dict[i])>j:\n",
    "            print(topic_doc_dict[i][j])\n",
    "            print(train.loc[topic_doc_dict[i][j][0],\"review_text\"])"
   ]
  },
  {
   "cell_type": "code",
   "execution_count": null,
   "id": "consolidated-burst",
   "metadata": {},
   "outputs": [],
   "source": []
  }
 ],
 "metadata": {
  "kernelspec": {
   "display_name": "Python 3",
   "language": "python",
   "name": "python3"
  },
  "language_info": {
   "codemirror_mode": {
    "name": "ipython",
    "version": 3
   },
   "file_extension": ".py",
   "mimetype": "text/x-python",
   "name": "python",
   "nbconvert_exporter": "python",
   "pygments_lexer": "ipython3",
   "version": "3.9.5"
  }
 },
 "nbformat": 4,
 "nbformat_minor": 5
}
